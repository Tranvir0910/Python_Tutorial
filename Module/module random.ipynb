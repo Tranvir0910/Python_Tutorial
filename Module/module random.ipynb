{
 "cells": [
  {
   "cell_type": "markdown",
   "metadata": {},
   "source": [
    "## **Sử dụng module random trong Python**"
   ]
  },
  {
   "cell_type": "code",
   "execution_count": null,
   "metadata": {},
   "outputs": [],
   "source": [
    "import random"
   ]
  },
  {
   "cell_type": "markdown",
   "metadata": {},
   "source": [
    "#### **Sinh số thực ngẫu nhiên với phương thức random()**"
   ]
  },
  {
   "cell_type": "code",
   "execution_count": 17,
   "metadata": {},
   "outputs": [
    {
     "name": "stdout",
     "output_type": "stream",
     "text": [
      "0.12266523478160485\n"
     ]
    }
   ],
   "source": [
    "import random\n",
    "print(random.random()*10)"
   ]
  },
  {
   "cell_type": "markdown",
   "metadata": {},
   "source": [
    "Trong đoạn mã trên, câu lệnh print được sử dụng kết hợp với phương thức random() sẽ in ra một giá trị số thực ngẫu nhiên trong khoảng từ 0 đến 10. Lí do, đó là chúng ta đã nhân 10 để làm số ngẫu nhiên sinh ra lớn hơn."
   ]
  },
  {
   "cell_type": "markdown",
   "metadata": {},
   "source": [
    "#### **Sinh số nguyên ngẫu nhiên với phương thức randint()**"
   ]
  },
  {
   "cell_type": "code",
   "execution_count": null,
   "metadata": {},
   "outputs": [],
   "source": [
    "random.randint(start, stop)"
   ]
  },
  {
   "cell_type": "markdown",
   "metadata": {},
   "source": [
    "Ví dụ đoạn mã dưới đây tiến hành sinh một số nguyên trong khoảng từ 3 đến 20:"
   ]
  },
  {
   "cell_type": "code",
   "execution_count": 10,
   "metadata": {},
   "outputs": [
    {
     "name": "stdout",
     "output_type": "stream",
     "text": [
      "5\n"
     ]
    }
   ],
   "source": [
    "import random\n",
    "print(random.randint(3, 20))"
   ]
  },
  {
   "cell_type": "markdown",
   "metadata": {},
   "source": [
    "#### **Phương thức randrange()**"
   ]
  },
  {
   "cell_type": "code",
   "execution_count": null,
   "metadata": {},
   "outputs": [],
   "source": [
    "random.randrange(start, stop, step)"
   ]
  },
  {
   "cell_type": "markdown",
   "metadata": {},
   "source": [
    "- Tham số **start** là không bắt buộc. Nó có nhiệm vụ chỉ định một giá trị số nguyên xác định vị trí bắt đầu. **Mặc định giá trị là 0.**\n",
    "\n",
    "- Tham số thứ hai **stop** là bắt buộc. Nó có nhiệm vụ chỉ định một giá trị số nguyên xác định vị trí kết thúc.\n",
    "\n",
    "- Tham số cuối cùng **step** là không bắt buộc. Nó thực hiện chỉ định một giá trị số nguyên xác định đơn vị tăng dần. **Mặc định giá trị là 1**."
   ]
  },
  {
   "cell_type": "code",
   "execution_count": 22,
   "metadata": {},
   "outputs": [
    {
     "name": "stdout",
     "output_type": "stream",
     "text": [
      "5\n"
     ]
    }
   ],
   "source": [
    "import random\n",
    "print(random.randrange(3, 9, 2))"
   ]
  },
  {
   "cell_type": "markdown",
   "metadata": {},
   "source": [
    "#### **Phương thức seed()**"
   ]
  },
  {
   "cell_type": "markdown",
   "metadata": {},
   "source": [
    "Phương thức **seed()** được sử dụng để khởi tạo trình tạo số ngẫu nhiên. \n",
    "\n",
    "Lí do đó là trong các hệ thống máy tính các thuật toán sinh số ngẫu nhiên thực chất đều là các thuật toán sinh số giả ngẫu nhiên nó sẽ sử dụng các giá trị mầm sinh để sinh ra các số **\"giả\"** ngẫu nhiên liên tiếp."
   ]
  },
  {
   "cell_type": "markdown",
   "metadata": {},
   "source": [
    "Phương thức seed() trong random cho phép biến các giá trị đầu vào thành các mầm sinh cho thuật toán giả ngẫu nhiên."
   ]
  },
  {
   "cell_type": "markdown",
   "metadata": {},
   "source": [
    "##### **Phương thức này có 2 tham số.**\n",
    "\n",
    "**Tham số đầu tiên là giá trị số cơ sở đầu tiên cần thiết để tạo ra một số ngẫu nhiên.**\n",
    "\n",
    "Nếu nó là một số nguyên, nó được sử dụng trực tiếp, nếu không, giá trị số đó sẽ phải được chuyển đổi thành một giá trị số nguyên. \n",
    "\n",
    "**Giá trị mặc định của nó là None** và nếu là giá trị None, trình tạo sẽ sử dụng thời gian hiện tại của hệ thống. \n",
    "\n",
    "Trong các ví dụ trên, chúng ta không sử dụng seed() do đó các đầu vào tạo số ngẫu nhiên được chọn là thời gian của hệ thống tại thời điểm chạy.\n",
    "\n",
    "**Tham số thứ 2 là Version** là một số nguyên chỉ định phiên bản thuật toán hay cách thức chuyển đổi tham số đầu tiên thành một giá trị số nguyên. \n",
    "\n",
    "**Giá trị mặc định là 2**. Thường chúng ta ít khi can thiệp vào tham số này."
   ]
  },
  {
   "cell_type": "markdown",
   "metadata": {},
   "source": [
    "Ví dụ dưới đây cho phép chúng ta sinh ra một giá trị số thực ngẫu nhiên nằm trong khoảng 0 và 1 sử dụng mầm sinh là 10:"
   ]
  },
  {
   "cell_type": "code",
   "execution_count": 25,
   "metadata": {},
   "outputs": [
    {
     "name": "stdout",
     "output_type": "stream",
     "text": [
      "0.5714025946899135\n"
     ]
    }
   ],
   "source": [
    "import random\n",
    "random.seed(10)\n",
    "print(random.random())"
   ]
  },
  {
   "cell_type": "markdown",
   "metadata": {},
   "source": [
    "**Lưu ý:** Nếu bạn sử dụng cùng một giá trị seed() cho các lần gọi phương thức này, bạn sẽ nhận được cùng một số ngẫu nhiên."
   ]
  },
  {
   "cell_type": "code",
   "execution_count": 31,
   "metadata": {},
   "outputs": [
    {
     "name": "stdout",
     "output_type": "stream",
     "text": [
      "0.4745706786885481\n",
      "0.4745706786885481\n"
     ]
    }
   ],
   "source": [
    "import random\n",
    "\n",
    "random.seed(12)\n",
    "print(random.random())\n",
    "\n",
    "random.seed(12)\n",
    "print(random.random())"
   ]
  },
  {
   "cell_type": "markdown",
   "metadata": {},
   "source": [
    "Đến đây bạn sẽ bắt đầu có một câu hỏi: Vậy tại sao tôi lại phải dùng **seed()**, trong khi nó có vẻ không đảm bảo tính ngẫu nhiên??\n",
    "\n",
    "Câu trả lời là trong một số trường hợp, chúng ta muốn sinh ngẫu nhiên nhưng vẫn muốn đánh giá kết quả một cách ổn định khi đó chúng ta sẽ dùng seed() để lưu lại trạng thái cần sinh này. Điều này hay được sử dụng trong machine learning khi chúng ta thực hiện đánh giá mô hình."
   ]
  },
  {
   "cell_type": "markdown",
   "metadata": {},
   "source": [
    "#### **Chọn ngầu nhiên một phần tử trong tập hợp với phương thức choice()**"
   ]
  },
  {
   "cell_type": "markdown",
   "metadata": {},
   "source": [
    "Phương thức **choice()** trả về một phần tử được c**họn ngẫu nhiên từ một tập hợp** được chỉ định. Tập hợp đó có thể là một chuỗi ký tự, một danh sách hoặc bất kỳ kiểu tập hợp nào khác."
   ]
  },
  {
   "cell_type": "code",
   "execution_count": 43,
   "metadata": {},
   "outputs": [
    {
     "name": "stdout",
     "output_type": "stream",
     "text": [
      "banana\n"
     ]
    }
   ],
   "source": [
    "import random\n",
    "mylist = [\"apple\", \"banana\", \"orange\"]\n",
    "print(random.choice(mylist))"
   ]
  },
  {
   "cell_type": "markdown",
   "metadata": {},
   "source": [
    "#### **Phương thức shuffle()**"
   ]
  },
  {
   "cell_type": "markdown",
   "metadata": {},
   "source": [
    "Phương thức **shuffle() nhận đầu vào là một tập hợp các phần tử**, giống như một tập hợp kiểu danh sách **và sắp xếp lại thứ tự của các phần tử**. Về cơ bản nó như là một phép hoán vị ngẫu nhiên các phần tử trong tập hợp."
   ]
  },
  {
   "cell_type": "code",
   "execution_count": null,
   "metadata": {},
   "outputs": [],
   "source": [
    "random.shuffle(sequence, function)"
   ]
  },
  {
   "cell_type": "markdown",
   "metadata": {},
   "source": [
    "**Trong đó:**\n",
    "\n",
    "- Tham số đầu tiên **sequence** là bắt buộc. Đây là danh sách tập hợp các phần tử muốn trộn.\n",
    "\n",
    "- Tham số thứ hai **function** là không bắt buộc. Đây sẽ là tên của một hàm trả về một số trong khoảng từ 0,0 đến 1,0. Nếu không được chỉ định, hàm **random()** sẽ được sử dụng."
   ]
  },
  {
   "cell_type": "code",
   "execution_count": null,
   "metadata": {},
   "outputs": [],
   "source": [
    "import random\n",
    "\n",
    "def myfunction():\n",
    "  return 0.1\n",
    "\n",
    "mylist = [\"apple\", \"grape\", \"orange\"]\n",
    "random.shuffle(mylist, myfunction)\n",
    "print(mylist)"
   ]
  }
 ],
 "metadata": {
  "kernelspec": {
   "display_name": "Python 3",
   "language": "python",
   "name": "python3"
  },
  "language_info": {
   "codemirror_mode": {
    "name": "ipython",
    "version": 3
   },
   "file_extension": ".py",
   "mimetype": "text/x-python",
   "name": "python",
   "nbconvert_exporter": "python",
   "pygments_lexer": "ipython3",
   "version": "3.11.4"
  },
  "orig_nbformat": 4
 },
 "nbformat": 4,
 "nbformat_minor": 2
}
