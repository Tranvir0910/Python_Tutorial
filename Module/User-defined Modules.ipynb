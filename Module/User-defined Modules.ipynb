{
 "cells": [
  {
   "cell_type": "markdown",
   "metadata": {},
   "source": [
    "## **User-defined Modules**"
   ]
  },
  {
   "cell_type": "markdown",
   "metadata": {},
   "source": [
    "### **Tạo module tự định nghĩa trong Python**"
   ]
  },
  {
   "cell_type": "markdown",
   "metadata": {},
   "source": [
    "Chúng ta tạo một module tự định nghĩa với tên là ***mymodule.py*** với nội dung như sau:"
   ]
  },
  {
   "attachments": {
    "image.png": {
     "image/png": "[encoded data removed]"
    }
   },
   "cell_type": "markdown",
   "metadata": {},
   "source": [
    "![image.png](attachment:image.png)"
   ]
  },
  {
   "cell_type": "markdown",
   "metadata": {},
   "source": [
    "Đầu tiên ta tạo 1 module với tên là test_module.py"
   ]
  },
  {
   "cell_type": "code",
   "execution_count": null,
   "metadata": {},
   "outputs": [],
   "source": [
    "language_list = [\"Python\",\"Java\",\"C#\",\"C++\",\"C\",\"JavaScript\"]"
   ]
  },
  {
   "cell_type": "markdown",
   "metadata": {},
   "source": [
    "Bây giờ, bạn có thể sử dụng module này bằng cách thêm một file Python mới với tên là main.py, với nội dung như sau:"
   ]
  },
  {
   "cell_type": "code",
   "execution_count": null,
   "metadata": {},
   "outputs": [],
   "source": [
    "import test_module\n",
    "\n",
    "#Get first language\n",
    "lan = test_module.language_list[1]\n",
    "print(\"Accessing 1st language:\", lan)\n",
    "\n",
    "# Get all language\n",
    "lans = test_module.language_list\n",
    "print(\"Accessing All language:\", lans)"
   ]
  },
  {
   "attachments": {
    "image.png": {
     "image/png": "[encoded data removed]"
    }
   },
   "cell_type": "markdown",
   "metadata": {},
   "source": [
    "![image.png](attachment:image.png)"
   ]
  },
  {
   "cell_type": "markdown",
   "metadata": {},
   "source": [
    "### **Tải lại một module**"
   ]
  },
  {
   "cell_type": "markdown",
   "metadata": {},
   "source": [
    "Trong Python, khi chúng ta import một module vào chương trình sử dụng từ khóa import, module đó sẽ được tải vào chương trình. Theo mặc định, module được tải vào chỉ một lần duy nhất, cho dù chúng ta có import nó hàng trăm lần đi nữa."
   ]
  },
  {
   "cell_type": "markdown",
   "metadata": {},
   "source": [
    "Tuy nhiên, trong nhiều trường hợp, chúng ta thay đổi một số yếu tố gì đó ở module đã được tải về, và muốn sử dụng yếu tố thay đổi này trong chương trình. Khi đó, chúng ta có thể sử dụng hàm ***reload()*** để tải lại module một lần nữa."
   ]
  },
  {
   "cell_type": "markdown",
   "metadata": {},
   "source": [
    "Đầu tiên, ví dụ, chúng ta cũng tạo một Python module với tên là test_module.py và đưa vào đoạn mã sau:"
   ]
  },
  {
   "cell_type": "code",
   "execution_count": 2,
   "metadata": {},
   "outputs": [
    {
     "name": "stdout",
     "output_type": "stream",
     "text": [
      "Learn Python with TEK4.VN\n"
     ]
    }
   ],
   "source": [
    "print(\"Learn Python with TEK4.VN\")"
   ]
  },
  {
   "cell_type": "markdown",
   "metadata": {},
   "source": [
    "Bây giờ, chúng ta sử dụng module này trong **main.py**, bằng cách ***import module test_module.py***."
   ]
  },
  {
   "cell_type": "code",
   "execution_count": null,
   "metadata": {},
   "outputs": [],
   "source": [
    "import time\n",
    "from importlib import reload\n",
    "\n",
    "# load 1st time\n",
    "import test_module\n",
    "time.sleep(20)\n",
    "# reload \n",
    "reload(test_module)\n",
    "time.sleep(20) \n",
    "\n",
    " # reload again  \n",
    "reload(test_module)\n",
    "print(\"This is test file..\")"
   ]
  }
 ],
 "metadata": {
  "kernelspec": {
   "display_name": "base",
   "language": "python",
   "name": "python3"
  },
  "language_info": {
   "codemirror_mode": {
    "name": "ipython",
    "version": 3
   },
   "file_extension": ".py",
   "mimetype": "text/x-python",
   "name": "python",
   "nbconvert_exporter": "python",
   "pygments_lexer": "ipython3",
   "version": "3.11.3"
  },
  "orig_nbformat": 4
 },
 "nbformat": 4,
 "nbformat_minor": 2
}
