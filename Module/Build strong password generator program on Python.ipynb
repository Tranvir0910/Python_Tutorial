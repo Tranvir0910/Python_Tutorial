{
 "cells": [
  {
   "cell_type": "markdown",
   "metadata": {},
   "source": [
    "## **Xây dựng chương trình sinh mật khẩu mạnh trên Python**"
   ]
  },
  {
   "cell_type": "markdown",
   "metadata": {},
   "source": [
    "### **Yêu cầu về mật khẩu mạnh**"
   ]
  },
  {
   "cell_type": "markdown",
   "metadata": {},
   "source": [
    "- Mật khẩu có độ dài tối thiểu là 8 ký tự **(tiêu chuẩn về độ dài)**\n",
    "\n",
    "- Mật khẩu chứa đủ các ký tự chữ HOA, chữ thường, số và ký tự đặc biệt **(tiêu chuẩn về độ đa dạng của bảng chữ mật khẩu)**\n",
    "\n",
    "- Vị trí và thứ tự của các ký tự trong mật khẩu hoàn toàn ngẫu nhiên **(tiêu chuẩn về mức độ phổ biến)**"
   ]
  },
  {
   "attachments": {
    "image.png": {
     "image/png": "[encoded data removed]"
    }
   },
   "cell_type": "markdown",
   "metadata": {},
   "source": [
    "![image.png](attachment:image.png)"
   ]
  },
  {
   "cell_type": "markdown",
   "metadata": {},
   "source": [
    "### **Xây dựng chương trình tạo mật khẩu mạnh bằng Python**"
   ]
  },
  {
   "cell_type": "code",
   "execution_count": null,
   "metadata": {},
   "outputs": [],
   "source": [
    "import random"
   ]
  },
  {
   "cell_type": "code",
   "execution_count": 1,
   "metadata": {},
   "outputs": [],
   "source": [
    "DIGITS = ['0', '1', '2', '3', '4', '5', '6', '7', '8', '9'] \n",
    "\n",
    "LOCASE_CHARACTERS = ['a', 'b', 'c', 'd', 'e', 'f', 'g', 'h',\n",
    "                     'i', 'j', 'k', 'm', 'n', 'o', 'p', 'q',\n",
    "                     'r', 's', 't', 'u', 'v', 'w', 'x', 'y',\n",
    "                     'z']\n",
    "\n",
    "UPCASE_CHARACTERS = ['A', 'B', 'C', 'D', 'E', 'F', 'G', 'H',\n",
    "                     'I', 'J', 'K', 'M', 'N', 'O', 'p', 'Q',\n",
    "                     'R', 'S', 'T', 'U', 'V', 'W', 'X', 'Y',\n",
    "                     'Z']\n",
    "\n",
    "SYMBOLS = ['@', '#', '$', '%', ':', '?', '.', '/', '|', '~', '>', '*', '(', ')', '<']"
   ]
  },
  {
   "cell_type": "markdown",
   "metadata": {},
   "source": [
    "Tiếp theo, chúng ta sẽ lấy trong mỗi tập ký tự 1 ký tự sử dụng để tạo thành mật khẩu:"
   ]
  },
  {
   "cell_type": "code",
   "execution_count": null,
   "metadata": {},
   "outputs": [],
   "source": [
    "rand_digit = random.choice(DIGITS)\n",
    "rand_upper = random.choice(UPCASE_CHARACTERS)\n",
    "rand_lower = random.choice(LOCASE_CHARACTERS)\n",
    "rand_symbol = random.choice(SYMBOLS)\n",
    "temp_pass = [rand_digit, rand_upper, rand_lower, rand_symbol] "
   ]
  },
  {
   "cell_type": "markdown",
   "metadata": {},
   "source": [
    "Sau khi đã chọn đủ các ký tự bắt buộc để đảm bảo mật khẩu có chứa đủ HOA, thường, số và ký tự đặc biệt. \n",
    "\n",
    "Chúng ta sẽ sinh ra nốt các ký tự còn lại để cho đủ độ dài mật khẩu:"
   ]
  },
  {
   "cell_type": "code",
   "execution_count": null,
   "metadata": {},
   "outputs": [],
   "source": [
    "MAX_LEN = 12\n",
    "COMBINED_LIST = DIGITS + UPCASE_CHARACTERS + LOCASE_CHARACTERS + SYMBOLS\n",
    "for x in range(MAX_LEN - 4):\n",
    "    temp_pass.append(random.choice(COMBINED_LIST))"
   ]
  },
  {
   "cell_type": "markdown",
   "metadata": {},
   "source": [
    "Chúng ta cho độ dài tối đa của mật khẩu là 12 và khai báo biến MAX_LEN=12 để giới hạn độ dài tối đa này.\n",
    "\n",
    "Chúng ta có thể chọn dài hơn để mật khẩu an toàn, hoặc thậm chí sinh ngẫu nhiên độ dài.\n",
    "\n",
    "Để đơn giản ở đây, ta giới hạn độ dài tối đa là 12. Ngoài ra chúng ta ghép tất cả các bộ ký tự ở trên vào chung một **COMBINED_LIST**, sau đó việc lựa chọn các ký tự còn lại sẽ được ngẫu nhiên **(random.choice)** trong danh sách này."
   ]
  },
  {
   "cell_type": "markdown",
   "metadata": {},
   "source": [
    "Cuối cùng, chúng ta trộn lại thứ tự của chuỗi mật khẩu và in ra màn hình:"
   ]
  },
  {
   "cell_type": "code",
   "execution_count": null,
   "metadata": {},
   "outputs": [],
   "source": [
    "random.shuffle(temp_pass)\n",
    "password = \"\"\n",
    "for x in temp_pass:\n",
    "        password = password + x\n",
    "\n",
    "print(\"Password generated: \" + password)"
   ]
  },
  {
   "cell_type": "markdown",
   "metadata": {},
   "source": [
    "Full code:"
   ]
  },
  {
   "cell_type": "code",
   "execution_count": 10,
   "metadata": {},
   "outputs": [
    {
     "name": "stdout",
     "output_type": "stream",
     "text": [
      "['1', 'A', 's', ')', 'h', 'j', 'j', 'r', 'G', 'v', 'T', 'p']\n",
      "Password generated: vT)r1hAsjpGj\n"
     ]
    }
   ],
   "source": [
    "import random\n",
    "\n",
    "DIGITS = ['0', '1', '2', '3', '4', '5', '6', '7', '8', '9'] \n",
    "\n",
    "LOCASE_CHARACTERS = ['a', 'b', 'c', 'd', 'e', 'f', 'g', 'h',\n",
    "                     'i', 'j', 'k', 'm', 'n', 'o', 'p', 'q',\n",
    "                     'r', 's', 't', 'u', 'v', 'w', 'x', 'y',\n",
    "                     'z']\n",
    "\n",
    "UPCASE_CHARACTERS = ['A', 'B', 'C', 'D', 'E', 'F', 'G', 'H',\n",
    "                     'I', 'J', 'K', 'M', 'N', 'O', 'p', 'Q',\n",
    "                     'R', 'S', 'T', 'U', 'V', 'W', 'X', 'Y',\n",
    "                     'Z']\n",
    "\n",
    "SYMBOLS = ['@', '#', '$', '%', ':', '?', '.', '/', '|', '~', '>',\n",
    "           '*', '(', ')', '<']\n",
    "\n",
    "rand_digit = random.choice(DIGITS)\n",
    "rand_upper = random.choice(UPCASE_CHARACTERS)\n",
    "rand_lower = random.choice(LOCASE_CHARACTERS)\n",
    "rand_symbol = random.choice(SYMBOLS)\n",
    "temp_pass = [rand_digit, rand_upper, rand_lower, rand_symbol] \n",
    "\n",
    "MAX_LEN = 12\n",
    "COMBINED_LIST = DIGITS + UPCASE_CHARACTERS + LOCASE_CHARACTERS + SYMBOLS\n",
    "for x in range(MAX_LEN - 4):\n",
    "    temp_pass.append(random.choice(COMBINED_LIST))\n",
    "\n",
    "random.shuffle(temp_pass)\n",
    "password = \"\"\n",
    "for x in temp_pass:\n",
    "        password = password + x\n",
    "\n",
    "print(\"Password generated: \" + password)"
   ]
  }
 ],
 "metadata": {
  "kernelspec": {
   "display_name": "Python 3",
   "language": "python",
   "name": "python3"
  },
  "language_info": {
   "codemirror_mode": {
    "name": "ipython",
    "version": 3
   },
   "file_extension": ".py",
   "mimetype": "text/x-python",
   "name": "python",
   "nbconvert_exporter": "python",
   "pygments_lexer": "ipython3",
   "version": "3.11.4"
  },
  "orig_nbformat": 4
 },
 "nbformat": 4,
 "nbformat_minor": 2
}
