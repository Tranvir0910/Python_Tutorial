{
 "cells": [
  {
   "cell_type": "markdown",
   "metadata": {},
   "source": [
    "## **Giới thiệu về tệp tin**"
   ]
  },
  {
   "cell_type": "markdown",
   "metadata": {},
   "source": [
    "- Trong nhiều trường hợp, chúng ta cần phải làm việc và lưu trữ dữ liệu lâu dài.\n",
    "\n",
    "- Chẳng hạn một cơ sở dữ liệu, một file văn bản dài hàng trăm ngàn dòng, một file dataset để đưa vào mô hình học máy, kết quả huấn luyện của mô hình...\n",
    "\n",
    "- Khi đó chúng ta sẽ không thể chỉ ngồi và nhập để đưa các dữ liệu vào ra được. Trong những trường hợp này, chúng ta cần phải làm việc với một đối tượng đặc biệt trong hệ thống đó là các tệp tin (file)."
   ]
  },
  {
   "cell_type": "markdown",
   "metadata": {},
   "source": [
    "### **Tệp là gì?**"
   ]
  },
  {
   "cell_type": "markdown",
   "metadata": {},
   "source": [
    "Về cốt lõi, tệp là một tập hợp các byte liền kề được sử dụng để lưu trữ dữ liệu. \n",
    "\n",
    "Dữ liệu này được sắp xếp theo một định dạng cụ thể và có thể là bất kỳ thứ gì đơn giản như một tệp văn bản hoặc phức tạp như một chương trình thực thi. \n",
    "\n",
    "Cuối cùng, các tệp byte này sau đó được dịch thành nhị phân 1 và 0 để máy tính xử lý dễ dàng hơn. Tệp trên hầu hết các hệ thống tệp hiện đại bao gồm ba thành phần chính:"
   ]
  },
  {
   "cell_type": "markdown",
   "metadata": {},
   "source": [
    "- **Phần Header:** Siêu dữ liệu về nội dung của tệp (tên tệp, kích thước, loại, v.v.)\n",
    "\n",
    "- **Phần Data:** Nội dung của tệp\n",
    "\n",
    "- **Ký tự end of file (EOF):** Ký tự đặc biệt cho biết phần cuối cùng của tệp"
   ]
  },
  {
   "cell_type": "markdown",
   "metadata": {},
   "source": [
    "### **Đường dẫn tệp**"
   ]
  },
  {
   "cell_type": "markdown",
   "metadata": {},
   "source": [
    "Khi bạn truy cập vào tệp trên hệ điều hành, bạn bắt buộc phải chỉ rõ đường dẫn của nó. Đường dẫn tệp là một chuỗi đại diện cho vị trí của tệp. Nó được chia thành ba phần chính:"
   ]
  },
  {
   "cell_type": "markdown",
   "metadata": {},
   "source": [
    "- **Đường dẫn thư mục:** Vị trí thư mục trên hệ thống tệp, nơi mà các thư mục con được phân tách bằng dấu gạch chéo / đối với hệ điều hành Unix hoặc dấu gạch chéo ngược \\ đối với hệ điều hành Windows.\n",
    "\n",
    "- **Tên tệp:** Tên của tệp.\n",
    "\n",
    "- **Phần đuôi mở rộng:** Phần cuối của đường dẫn tệp đằng sau dấu chấm. Được sử dụng để biểu thị kiểu loại tệp."
   ]
  },
  {
   "cell_type": "code",
   "execution_count": null,
   "metadata": {
    "vscode": {
     "languageId": "sql"
    }
   },
   "outputs": [],
   "source": [
    "/\n",
    "│\n",
    "├── path/\n",
    "|   │\n",
    "│   ├── to/\n",
    "│   │   └── cats.gif\n",
    "│   │\n",
    "│   └── dog_breeds.txt\n",
    "|\n",
    "└── animals.csv"
   ]
  },
  {
   "cell_type": "code",
   "execution_count": null,
   "metadata": {
    "vscode": {
     "languageId": "sql"
    }
   },
   "outputs": [],
   "source": [
    "/path/to/cats.gif"
   ]
  },
  {
   "cell_type": "code",
   "execution_count": null,
   "metadata": {
    "vscode": {
     "languageId": "sql"
    }
   },
   "outputs": [],
   "source": [
    "/\n",
    "│\n",
    "├── path/\n",
    "|   │\n",
    "|   ├── to/  ← Your current working directory (cwd) is here\n",
    "|   │   └── cats.gif  ← Accessing this file\n",
    "|   │\n",
    "|   └── dog_breeds.txt\n",
    "|\n",
    "└── animals.csv"
   ]
  },
  {
   "cell_type": "markdown",
   "metadata": {},
   "source": [
    "### **Kết thúc dòng**"
   ]
  },
  {
   "cell_type": "markdown",
   "metadata": {},
   "source": [
    "Một vấn đề thường gặp phải khi làm việc với dữ liệu tệp là biểu diễn một dòng mới hoặc kết thúc dòng. \n",
    "\n",
    "Windows sử dụng các ký tự **CR + LF** để chỉ ra một dòng mới, trong khi Unix và các phiên bản Mac mới hơn chỉ sử dụng ký tự **LF**. Điều này có thể gây ra một số phức tạp khi bạn đang xử lý tệp trên hệ điều hành khác với hệ điều hành chứa tệp đó. "
   ]
  },
  {
   "cell_type": "markdown",
   "metadata": {},
   "source": [
    "**Ví dụ:**\n",
    "\n",
    "Giả sử chúng ta kiểm tra tệp dog_breeds.txt được tạo trên hệ thống Windows:"
   ]
  },
  {
   "cell_type": "code",
   "execution_count": null,
   "metadata": {
    "vscode": {
     "languageId": "sql"
    }
   },
   "outputs": [],
   "source": [
    "Pug\\r\\n\n",
    "Jack Russell Terrier\\r\\n\n",
    "English Springer Spaniel\\r\\n\n",
    "German Shepherd\\r\\n\n",
    "Staffordshire Bull Terrier\\r\\n\n",
    "Cavalier King Charles Spaniel\\r\\n\n",
    "Golden Retriever\\r\\n\n",
    "West Highland White Terrier\\r\\n\n",
    "Boxer\\r\\n\n",
    "Border Terrier\\r\\n"
   ]
  },
  {
   "cell_type": "markdown",
   "metadata": {},
   "source": [
    "Đầu ra tương tự này sẽ được biên dịch trên thiết bị Unix theo cách khác:"
   ]
  },
  {
   "cell_type": "code",
   "execution_count": null,
   "metadata": {
    "vscode": {
     "languageId": "sql"
    }
   },
   "outputs": [],
   "source": [
    "Pug\\r\n",
    "\\n\n",
    "Jack Russell Terrier\\r\n",
    "\\n\n",
    "English Springer Spaniel\\r\n",
    "\\n\n",
    "German Shepherd\\r\n",
    "\\n\n",
    "Staffordshire Bull Terrier\\r\n",
    "\\n\n",
    "Cavalier King Charles Spaniel\\r\n",
    "\\n\n",
    "Golden Retriever\\r\n",
    "\\n\n",
    "West Highland White Terrier\\r\n",
    "\\n\n",
    "Boxer\\r\n",
    "\\n\n",
    "Border Terrier\\r\n",
    "\\n"
   ]
  }
 ],
 "metadata": {
  "language_info": {
   "name": "python"
  },
  "orig_nbformat": 4
 },
 "nbformat": 4,
 "nbformat_minor": 2
}
