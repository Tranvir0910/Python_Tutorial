{
 "cells": [
  {
   "cell_type": "markdown",
   "metadata": {},
   "source": [
    "## **Xây dựng chương trình phần mềm quản lý danh bạ điện thoại đơn giản**"
   ]
  },
  {
   "cell_type": "markdown",
   "metadata": {},
   "source": [
    "**Trong chương trình chúng ta sẽ sử dụng hai hàm:**\n",
    "\n",
    "- **Hàm welcome()** để nhận giá trị số được nhập từ người dùng. Chúng ta sẽ cho phép người dùng nhập vào 5 giá trị tương ứng với các chức năng của chương trình.\n",
    "\n",
    "- **Hàm phonebook()** có chức năng thực hiện 5 chức năng khác nhau tương ứng với giá trị đầu vào từ người dùng. Chúng ta sẽ sử dụng câu điều kiện if else để thực hiện 5 chức năng khác nhau này."
   ]
  },
  {
   "cell_type": "markdown",
   "metadata": {},
   "source": [
    "### **Trường hợp 1: Người dùng muốn hiển thị danh bạ**"
   ]
  },
  {
   "cell_type": "markdown",
   "metadata": {},
   "source": [
    "Chúng ta sẽ thực hiện đọc tệp **Contact.txt** để hiển thị danh bạ. \n",
    "\n",
    "Có 3 trường hợp xảy ra trong lựa chọn này. \n",
    "\n",
    "- Trường hợp 1 là tệp **Contact.txt** chưa tồn tại do người dùng chưa tạo danh bạ, chúng ta sẽ thực hiện in ra thông báo cho người dùng là họ chưa tạo danh sách liên lạc. \n",
    "\n",
    "- Trường hợp 2 là người dùng đã tạo tệp **Contact.txt** nhưng đã xóa hết danh sách liên lạc, chúng ta thực hiện in ra thông báo là danh sách liên lạc rỗng. \n",
    "\n",
    "- Trường hợp 3 là người dùng đã tạo tệp **Contact.txt** và chúng ta thực hiện in ra dữ liệu trong tệp."
   ]
  },
  {
   "cell_type": "markdown",
   "metadata": {},
   "source": [
    "Để đọc được tệp, chúng ta cần sử dụng **hàm open()** với tham số đầu tiên là đường dẫn tệp và **tham số thứ 2 là ký tự ‘r’** để đọc tệp. \n",
    "\n",
    "Sau khi mở tệp ở chế độ đọc, chúng ta sẽ sử dụng **hàm readlines()** để đọc dữ liệu trong tệp. \n",
    "\n",
    "Và cuối cùng, sau khi thực hiện xong thao tác đối với tệp, chúng ta sẽ đóng lại tệp bằng **hàm close()**."
   ]
  },
  {
   "cell_type": "code",
   "execution_count": null,
   "metadata": {},
   "outputs": [],
   "source": [
    "if entry == 1:\n",
    "     f = open(\"Contact.txt\", \"r\")\n",
    "     contacts = f.readlines()\n",
    "     f.close()\n",
    "     if not contacts:\n",
    "        print(\"Danh sách liên lạc trống\")\n",
    "     else:\n",
    "        for i in contacts:\n",
    "\t        print(i)"
   ]
  },
  {
   "cell_type": "markdown",
   "metadata": {},
   "source": [
    "### **Trường hợp 2: Người dùng muốn thêm liên lạc vào danh bạ**"
   ]
  },
  {
   "cell_type": "markdown",
   "metadata": {},
   "source": [
    "Chúng ta sẽ cho phép người dùng nhập tên và số liên lạc. \n",
    "\n",
    "Sau đó, chúng ta thực hiện đọc tệp **Contact.txt** đã tồn tại để kiểm tra xem liên lạc đó đã có trong danh bạ hay chưa, nếu chưa có, thực hiện thêm liên lạc và ghi lại vào tệp. \n",
    "\n",
    "Nếu đã có, thực hiện in ra thông báo cho người dùng rằng liên lạc đó đã có trong danh sách danh bạ của họ.\n",
    "\n",
    "Tương tự, để đọc tệp, chúng ta thực hiện như trong trường hợp 1 bên trên. \n",
    "\n",
    "Để thực hiện ghi tệp và thêm dữ liệu vào tệp, chúng ta sẽ t**ruyền tham số thứ 2 cho hàm open() là ký tự ‘a’**. \n",
    "\n",
    "Và hàm **write()** được sử dụng để ghi vào tệp, lưu ý rằng hàm này chỉ nhận 1 đối số duy nhất."
   ]
  },
  {
   "cell_type": "code",
   "execution_count": null,
   "metadata": {},
   "outputs": [],
   "source": [
    "elif entry == 2:\n",
    "        checked = False\n",
    "        phone_number = input(\"Số điện thoại:\")\n",
    "        contact_name = input(\"Tên liên lạc?\")\n",
    "        f = open(\"Contact.txt\", \"r\")\n",
    "        contacts = f.readlines()\n",
    "        f.close()\n",
    "\tfor i in contacts:\n",
    "\t\tif i.find(name) != -1:\n",
    "\t\t\tprint(\"Liên lạc đã tồn tại!\")\n",
    "\t\t\tchecked = True\n",
    "\t\t\tbreak\n",
    "\t\tif checked == False:\n",
    "\t\t\tf = open(\"Contact.txt\", \"a\")\n",
    "\t\t\tcontacts.append(contact_name + \": \" + phone_number + \"\\n\")\n",
    "\t\t\tcontacts = f.write(contacts[-1])\n",
    "\t\t\tf.close()\n",
    "\t\t\tprint(\"Liên lạc đã được lưu\")"
   ]
  },
  {
   "cell_type": "markdown",
   "metadata": {},
   "source": [
    "### **Trường hợp 3: Người dùng muốn kiểm tra liên lạc trong danh bạ**"
   ]
  },
  {
   "cell_type": "markdown",
   "metadata": {},
   "source": [
    "Tương tự, để đọc tệp, chúng ta thực hiện như trong trường hợp 1 bên trên. \n",
    "\n",
    "Sau khi đọc xong tệp, chúng ta thực hiện kiểm tra xem liên lạc đã có trong danh bạ hay chưa. Nếu có, chúng ta thực hiện in ra liên lạc này. Nếu chưa có, chúng ta thực hiện in ra thông báo là liên lạc này không tồn tại."
   ]
  },
  {
   "cell_type": "code",
   "execution_count": null,
   "metadata": {},
   "outputs": [],
   "source": [
    "elif entry == 3:\n",
    "     checked = False\n",
    "     f = open(\"Contact.txt\", \"r\")\n",
    "     contacts = f.readlines()\n",
    "     f.close()\n",
    "     name = input(\"Nhập tên liên lạc:\")\n",
    "     for i in contacts:\n",
    "          if i.find(name) != -1:\n",
    "                print(i)\n",
    "                checked = True\n",
    "                break\n",
    "     if checked == False:\n",
    "         print(\"Liên lạc không tồn tại\")"
   ]
  },
  {
   "cell_type": "markdown",
   "metadata": {},
   "source": [
    "### **Trường hợp 4: Người dùng xóa liên lạc**"
   ]
  },
  {
   "cell_type": "markdown",
   "metadata": {},
   "source": [
    "Chúng ta thực hiện in ra thông báo cho người dùng rằng họ có muốn chắc chắn xóa liên lạc này hay không, nếu có, chúng ta sẽ xóa liên lạc này khỏi danh bạ và ghi lại vào tệp **Contact.txt.** Nếu chưa có, chúng ta thực hiện in ra thông báo là liên lạc này không tồn tại."
   ]
  },
  {
   "cell_type": "code",
   "execution_count": null,
   "metadata": {},
   "outputs": [],
   "source": [
    "elif entry == 4:\n",
    "            checked = False\n",
    "            delete_var = 0\n",
    "            f = open(\"Contact.txt\", \"r\")\n",
    "            contacts = f.readlines()\n",
    "            f.close()\n",
    "            name = input(\"Nhập tên liên lạc:\")\n",
    "            for i in contacts:\n",
    "                if i.find(name) != -1:\n",
    "                    print(i)\n",
    "                    delete_var = contacts.index(i)\n",
    "                    checked = True\n",
    "                    confirm = input(\"Bạn có chắc chắn xóa? Y/N:\")\n",
    "                    if confirm.capitalize() == \"Y\":\n",
    "                        contacts.pop(delete_var)\n",
    "                        f = open(\"Contact.txt\", \"w\")\n",
    "                        for i in contacts:\n",
    "                            f.write(i)\n",
    "                        f.close()\n",
    "                    else:\n",
    "                        print(\"Quay trở lại menu!\")\n",
    "                    break\n",
    "            if checked == False:\n",
    "                print(\"Liên lạc không tồn tại\")"
   ]
  },
  {
   "cell_type": "markdown",
   "metadata": {},
   "source": [
    "### **Trường hợp 5: Thực hiện thoát khỏi chương trình**"
   ]
  },
  {
   "cell_type": "code",
   "execution_count": null,
   "metadata": {},
   "outputs": [],
   "source": [
    "elif entry == 5:\n",
    "  print(\"Xin cảm ơn!\")\n",
    "  break"
   ]
  },
  {
   "cell_type": "markdown",
   "metadata": {},
   "source": [
    "### **FULL CODE**"
   ]
  },
  {
   "cell_type": "code",
   "execution_count": 2,
   "metadata": {},
   "outputs": [
    {
     "ename": "FileNotFoundError",
     "evalue": "[Errno 2] No such file or directory: 'Contact.txt'",
     "output_type": "error",
     "traceback": [
      "\u001b[1;31m---------------------------------------------------------------------------\u001b[0m",
      "\u001b[1;31mFileNotFoundError\u001b[0m                         Traceback (most recent call last)",
      "Cell \u001b[1;32mIn[2], line 85\u001b[0m\n\u001b[0;32m     82\u001b[0m         \u001b[39melse\u001b[39;00m:\n\u001b[0;32m     83\u001b[0m             \u001b[39mprint\u001b[39m(\u001b[39m\"\u001b[39m\u001b[39mMời bạn nhập lại!\u001b[39m\u001b[39m\"\u001b[39m)\n\u001b[1;32m---> 85\u001b[0m phonebook()\n",
      "Cell \u001b[1;32mIn[2], line 16\u001b[0m, in \u001b[0;36mphonebook\u001b[1;34m()\u001b[0m\n\u001b[0;32m     14\u001b[0m entry \u001b[39m=\u001b[39m welcome()\n\u001b[0;32m     15\u001b[0m \u001b[39mif\u001b[39;00m entry \u001b[39m==\u001b[39m \u001b[39m1\u001b[39m:\n\u001b[1;32m---> 16\u001b[0m     f \u001b[39m=\u001b[39m \u001b[39mopen\u001b[39;49m(\u001b[39m\"\u001b[39;49m\u001b[39mContact.txt\u001b[39;49m\u001b[39m\"\u001b[39;49m, \u001b[39m\"\u001b[39;49m\u001b[39mr\u001b[39;49m\u001b[39m\"\u001b[39;49m)\n\u001b[0;32m     17\u001b[0m     contacts \u001b[39m=\u001b[39m f\u001b[39m.\u001b[39mreadlines()\n\u001b[0;32m     18\u001b[0m     f\u001b[39m.\u001b[39mclose()\n",
      "File \u001b[1;32m~\\AppData\\Roaming\\Python\\Python311\\site-packages\\IPython\\core\\interactiveshell.py:284\u001b[0m, in \u001b[0;36m_modified_open\u001b[1;34m(file, *args, **kwargs)\u001b[0m\n\u001b[0;32m    277\u001b[0m \u001b[39mif\u001b[39;00m file \u001b[39min\u001b[39;00m {\u001b[39m0\u001b[39m, \u001b[39m1\u001b[39m, \u001b[39m2\u001b[39m}:\n\u001b[0;32m    278\u001b[0m     \u001b[39mraise\u001b[39;00m \u001b[39mValueError\u001b[39;00m(\n\u001b[0;32m    279\u001b[0m         \u001b[39mf\u001b[39m\u001b[39m\"\u001b[39m\u001b[39mIPython won\u001b[39m\u001b[39m'\u001b[39m\u001b[39mt let you open fd=\u001b[39m\u001b[39m{\u001b[39;00mfile\u001b[39m}\u001b[39;00m\u001b[39m by default \u001b[39m\u001b[39m\"\u001b[39m\n\u001b[0;32m    280\u001b[0m         \u001b[39m\"\u001b[39m\u001b[39mas it is likely to crash IPython. If you know what you are doing, \u001b[39m\u001b[39m\"\u001b[39m\n\u001b[0;32m    281\u001b[0m         \u001b[39m\"\u001b[39m\u001b[39myou can use builtins\u001b[39m\u001b[39m'\u001b[39m\u001b[39m open.\u001b[39m\u001b[39m\"\u001b[39m\n\u001b[0;32m    282\u001b[0m     )\n\u001b[1;32m--> 284\u001b[0m \u001b[39mreturn\u001b[39;00m io_open(file, \u001b[39m*\u001b[39;49margs, \u001b[39m*\u001b[39;49m\u001b[39m*\u001b[39;49mkwargs)\n",
      "\u001b[1;31mFileNotFoundError\u001b[0m: [Errno 2] No such file or directory: 'Contact.txt'"
     ]
    }
   ],
   "source": [
    "def welcome():\n",
    "    entry = int(input(\"\"\"\n",
    "                        1. Hiển thị\n",
    "                        2. Thêm liên lạc\n",
    "                        3, Kiểm tra danh bạ\n",
    "                        4. Xóa liên lạc\n",
    "                        5. Thoát\n",
    "                        Enter your number: \"\"\"))\n",
    "    return entry\n",
    "\n",
    "def phonebook():\n",
    "    contacts = []\n",
    "    while True:\n",
    "        entry = welcome()\n",
    "        if entry == 1:\n",
    "            f = open(\"Contact.txt\", \"r\")\n",
    "            contacts = f.readlines()\n",
    "            f.close()\n",
    "            if not contacts:\n",
    "                print(\"Danh sách liên lạc trống\")\n",
    "            else:\n",
    "                for i in contacts:\n",
    "                    print(i)\n",
    "        elif entry == 2:\n",
    "            checked = False\n",
    "            phone_number = input(\"Số điện thoại:\")\n",
    "            contact_name = input(\"Tên liên lạc?\")\n",
    "            f = open(\"Contact.txt\", \"r\")\n",
    "            contacts = f.readlines()\n",
    "            f.close()\n",
    "            for i in contacts:\n",
    "                if i.find(name) != -1:\n",
    "                    print(\"Liên lạc đã tồn tại!\")\n",
    "                    checked = True\n",
    "                    break\n",
    "            if checked == False:\n",
    "                f = open(\"Contact.txt\", \"a\")\n",
    "                contacts.append(contact_name + \": \" + phone_number + \"\\n\")\n",
    "                contacts = f.write(contacts[-1])\n",
    "                f.close()\n",
    "                print(\"Liên lạc đã được lưu\")\n",
    "        elif entry == 3:\n",
    "            checked = False\n",
    "            f = open(\"Contact.txt\", \"r\")\n",
    "            contacts = f.readlines()\n",
    "            f.close()\n",
    "            name = input(\"Nhập tên liên lạc:\")\n",
    "            for i in contacts:\n",
    "                if i.find(name) != -1:\n",
    "                    print(i)\n",
    "                    checked = True\n",
    "                    break\n",
    "            if checked == False:\n",
    "                print(\"Liên lạc không tồn tại\")\n",
    "        elif entry == 4:\n",
    "            checked = False\n",
    "            delete_var = 0\n",
    "            f = open(\"Contact.txt\", \"r\")\n",
    "            contacts = f.readlines()\n",
    "            f.close()\n",
    "            name = input(\"Nhập tên liên lạc:\")\n",
    "            for i in contacts:\n",
    "                if i.find(name) != -1:\n",
    "                    print(i)\n",
    "                    delete_var = contacts.index(i)\n",
    "                    checked = True\n",
    "                    confirm = input(\"Bạn có chắc chắn xóa? Y/N:\")\n",
    "                    if confirm.capitalize() == \"Y\":\n",
    "                        contacts.pop(delete_var)\n",
    "                        f = open(\"Contact.txt\", \"w\")\n",
    "                        for i in contacts:\n",
    "                            f.write(i)\n",
    "                        f.close()\n",
    "                    else:\n",
    "                        print(\"Quay trở lại menu!\")\n",
    "                    break\n",
    "            if checked == False:\n",
    "                print(\"Liên lạc không tồn tại\")\n",
    "        elif entry == 5:\n",
    "            print(\"Xin cảm ơn!\")\n",
    "            break\n",
    "        else:\n",
    "            print(\"Mời bạn nhập lại!\")\n",
    "\n",
    "phonebook()"
   ]
  }
 ],
 "metadata": {
  "kernelspec": {
   "display_name": "Python 3",
   "language": "python",
   "name": "python3"
  },
  "language_info": {
   "codemirror_mode": {
    "name": "ipython",
    "version": 3
   },
   "file_extension": ".py",
   "mimetype": "text/x-python",
   "name": "python",
   "nbconvert_exporter": "python",
   "pygments_lexer": "ipython3",
   "version": "3.11.4"
  },
  "orig_nbformat": 4
 },
 "nbformat": 4,
 "nbformat_minor": 2
}
