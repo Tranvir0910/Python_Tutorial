{
 "cells": [
  {
   "cell_type": "markdown",
   "id": "4e415802",
   "metadata": {},
   "source": [
    "## **Hàm tạo __ init__ trong Python**"
   ]
  },
  {
   "cell_type": "markdown",
   "id": "4c9ec297",
   "metadata": {},
   "source": [
    "Sau khi học bài này, bạn sẽ học được:\n",
    "\n",
    "- Tạo và sử dụng hàm tạo (constructor) trong Python\n",
    "- Cách tạo các hàm tạo với dạng khác nhau theo yêu cầu\n",
    "- Sử dụng nhiều hàm tạo cùng lúc"
   ]
  },
  {
   "cell_type": "markdown",
   "id": "81a5a7a8",
   "metadata": {},
   "source": [
    "### **Hàm tạo (constructor) trong Python là gì?**"
   ]
  },
  {
   "cell_type": "markdown",
   "id": "d77ac70c",
   "metadata": {},
   "source": [
    "Trong lập trình hướng đối tượng, một hàm tạo là một phương thức đặc biệt được sử dụng để sinh và khởi tạo một đối tượng của lớp.\n",
    "\n"
   ]
  },
  {
   "cell_type": "markdown",
   "id": "fdf54638",
   "metadata": {},
   "source": [
    "Chẳng hạn, khi chúng ta thực thi việc tạo một đối tượng **obj = SampleClass()**, Python sẽ hiểu rằng chúng ta đang muốn tạo một đối tượng tên là **obj** của lớp **SampleClass** và **gọi đến hàm tạo** của lớp để tạo ra đối tượng mong muốn. Quá trình tạo này sẽ bao gồm hai giai đoạn:\n",
    "\n",
    "- Giai đoạn tạo đối tượng được thực thi ngầm định bởi phương thức **__ new __** trong Python\n",
    "\n",
    "- Giai đoạn khởi tạo các giá trị cho đối tượng được thực hiện bằng cách sử dụng phương thức **__ init__()**."
   ]
  },
  {
   "cell_type": "markdown",
   "id": "76806aab",
   "metadata": {},
   "source": [
    "Để định nghĩa phương thức khởi tạo **__ init__()**, chúng ta thực hiện như định nghĩa một phương thức thông thường trong lớp. Điều khác biệt duy nhất là tên của nó:"
   ]
  },
  {
   "cell_type": "code",
   "execution_count": null,
   "id": "4ec4d138",
   "metadata": {},
   "outputs": [],
   "source": [
    "def __init__(self, [parameter1, parameter2,...]):\n",
    "    # Thân của hàm tạo"
   ]
  },
  {
   "cell_type": "markdown",
   "id": "9a06470c",
   "metadata": {},
   "source": [
    "**Trong đó:**\n",
    "\n",
    "- **def:** Là từ khóa định nghĩa hàm, hay phương thức.\n",
    "\n",
    "- **__ init__():** Tên của phương thức tạo đặc biệt được chạy ngay khi đối tượng được tạo, và nó bắt buộc phải có tên như vậy.\n",
    "\n",
    "- **self:** Tham số đầu tiên self tham chiếu đến đối tượng gọi hay đối tượng được tạo.\n",
    "\n",
    "- Các tham số còn lại là tùy chọn, chúng ta có thể sử dụng để truyền vào hàm tạo, chúng ta có thể sử dụng bao nhiêu tham số tủy thích."
   ]
  },
  {
   "cell_type": "markdown",
   "id": "b18acaa1",
   "metadata": {},
   "source": [
    "Ví dụ dưới đây tạo một lớp **Student** với các thuộc tính là **ID** và **name** đại diện cho mã sinh viên và tên của sinh viên."
   ]
  },
  {
   "cell_type": "code",
   "execution_count": 1,
   "id": "2decc4b5",
   "metadata": {},
   "outputs": [
    {
     "name": "stdout",
     "output_type": "stream",
     "text": [
      "Trong hàm tạo\n",
      "Khởi tạo giá trị cho các thuộc tính\n",
      "Mã sinh viên: 20, Tên: Phúc Hiếu\n"
     ]
    }
   ],
   "source": [
    "class SinhVien:\n",
    "    def __init__(self, ID, name):\n",
    "        print('Trong hàm tạo')\n",
    "        self.ID=ID\n",
    "        self.name = name\n",
    "        print('Khởi tạo giá trị cho các thuộc tính')\n",
    "\n",
    "    def show(self):\n",
    "        print('Mã sinh viên: {0}, Tên: {1}'.format(self.ID, self.name))\n",
    "\n",
    "s1 = SinhVien(20,'Phúc Hiếu')\n",
    "s1.show()"
   ]
  },
  {
   "cell_type": "markdown",
   "id": "7f3ea37e",
   "metadata": {},
   "source": [
    "### **Các dạng hàm tạo trong Python**"
   ]
  },
  {
   "cell_type": "markdown",
   "id": "b431fd71",
   "metadata": {},
   "source": [
    "Trong Python, có 3 dạng hàm tạo:\n",
    "\n",
    "- Các hàm tạo mặc định\n",
    "- Các hàm tạo không có tham số\n",
    "- Các hàm tạo có tham số"
   ]
  },
  {
   "attachments": {
    "image.png": {
     "image/png": "[encoded data removed]"
    }
   },
   "cell_type": "markdown",
   "id": "53f3f654",
   "metadata": {},
   "source": [
    "![image.png](attachment:image.png)"
   ]
  },
  {
   "cell_type": "markdown",
   "id": "7a8e725a",
   "metadata": {},
   "source": [
    "#### **Hàm tạo mặc định**"
   ]
  },
  {
   "cell_type": "markdown",
   "id": "c5e70d7b",
   "metadata": {},
   "source": [
    "Nếu bạn không định nghĩa bất kỳ hàm tạo nào trong lớp hoặc quên khai báo nó, Python sẽ thay mặt bạn chèn một hàm tạo mặc định vào mã nguồn. Hàm tạo này được gọi là hàm tạo mặc định."
   ]
  },
  {
   "cell_type": "markdown",
   "id": "82022fcc",
   "metadata": {},
   "source": [
    "Nó không thực hiện bất kỳ tác vụ nào ngoài việc khởi tạo các đối tượng. Nó là một hàm tạo rỗng không có phần thân."
   ]
  },
  {
   "cell_type": "markdown",
   "id": "96236dcd",
   "metadata": {},
   "source": [
    "**Lưu ý:**\n",
    "\n",
    "- **Hàm tạo mặc định không hiển thị trong file mã nguồn py mà chúng ta viết.** Nó sẽ được chèn vào mã trong quá trình dịch chương trình nếu các hàm tạo khác không tồn tại.\n",
    "- Nếu bạn định nghĩa một phương thức khởi tạo riêng, thì phương thức khởi tạo mặc định sẽ không được thêm vào."
   ]
  },
  {
   "cell_type": "code",
   "execution_count": 2,
   "id": "9b793944",
   "metadata": {},
   "outputs": [
    {
     "name": "stdout",
     "output_type": "stream",
     "text": [
      "Giảng viên\n"
     ]
    }
   ],
   "source": [
    "class GiangVien:\n",
    "\n",
    "    def display(self):\n",
    "        print('Giảng viên')\n",
    "\n",
    "gv = GiangVien()\n",
    "gv.display()"
   ]
  },
  {
   "cell_type": "markdown",
   "id": "e0806239",
   "metadata": {},
   "source": [
    "Như chúng ta thấy, ở ví dụ trên, chúng ta không định nghĩa bất kỳ một hàm tạo nào, nhưng chúng ta vẫn có thể tạo ra các đối tượng của lớp GiangVien để sử dụng mà chương trình không báo lỗi."
   ]
  },
  {
   "cell_type": "markdown",
   "id": "f6e0e21b",
   "metadata": {},
   "source": [
    "#### **Hàm tạo không có tham số trong Python**"
   ]
  },
  {
   "cell_type": "markdown",
   "id": "68ba2a51",
   "metadata": {},
   "source": [
    "Hàm tạo này không chấp nhận các đối số trong quá trình tạo đối tượng. Thay vào đó, nó khởi tạo mọi đối tượng với cùng một bộ giá trị."
   ]
  },
  {
   "cell_type": "code",
   "execution_count": null,
   "id": "7480fa57",
   "metadata": {},
   "outputs": [],
   "source": [
    "class CongTy:\n",
    "\n",
    "    def __init__(self):\n",
    "        self.name = \"TEK4.VN\"\n",
    "        self.address = \"Manor Central Park\"\n",
    "\n",
    "    def show(self):\n",
    "        print('Name:', self.name, 'Address:', self.address)\n",
    "\n",
    "cty = CongTy()\n",
    "cty.show()"
   ]
  },
  {
   "attachments": {
    "image.png": {
     "image/png": "[encoded data removed]"
    }
   },
   "cell_type": "markdown",
   "id": "e633b6e1",
   "metadata": {},
   "source": [
    "----\n",
    "![image.png](attachment:image.png)\n",
    "**Lưu ý**\n",
    "Chúng ta gọi là hàm tạo không tham số nhưng chúng ta vẫn có tham số self mặc định tham chiếu đến đối tượng cần tạo!!!\n",
    "\n",
    "----"
   ]
  },
  {
   "cell_type": "markdown",
   "id": "55222dd7",
   "metadata": {},
   "source": [
    "#### **Hàm tạo có tham số**"
   ]
  },
  {
   "cell_type": "code",
   "execution_count": 3,
   "id": "4fef48ac",
   "metadata": {},
   "outputs": [
    {
     "name": "stdout",
     "output_type": "stream",
     "text": [
      "Tuấn 23 7500\n",
      "Hiếu 25 8500\n"
     ]
    }
   ],
   "source": [
    "class NhanVien:\n",
    "    def __init__(self, name, age, salary):\n",
    "        self.name = name\n",
    "        self.age = age\n",
    "        self.salary = salary\n",
    "\n",
    "    def show(self):\n",
    "        print(self.name, self.age, self.salary)\n",
    "\n",
    "tuan = NhanVien('Tuấn', 23, 7500)\n",
    "tuan.show()\n",
    "\n",
    "hieu = NhanVien('Hiếu', 25, 8500)\n",
    "hieu.show()"
   ]
  },
  {
   "cell_type": "markdown",
   "id": "fde045ef",
   "metadata": {},
   "source": [
    "#### **Hàm tạo với tham số mặc định**"
   ]
  },
  {
   "cell_type": "code",
   "execution_count": 4,
   "id": "de494785",
   "metadata": {},
   "outputs": [
    {
     "name": "stdout",
     "output_type": "stream",
     "text": [
      "Hải 18 1\n",
      "Hưng 21 1\n"
     ]
    }
   ],
   "source": [
    "class SinhVien:\n",
    "    def __init__(self, name, age=18, classroom=1):\n",
    "        self.name = name\n",
    "        self.age = age\n",
    "        self.classroom = classroom\n",
    "\n",
    "    def show(self):\n",
    "        print(self.name, self.age, self.classroom)\n",
    "\n",
    "hai = SinhVien('Hải')\n",
    "hai.show()\n",
    "\n",
    "hung = SinhVien('Hưng', 21)\n",
    "hung.show()\n"
   ]
  },
  {
   "cell_type": "markdown",
   "id": "4f7e368e",
   "metadata": {},
   "source": [
    "#### **Một số lưu ý đối với hàm tạo __ init__() trong Python**"
   ]
  },
  {
   "cell_type": "markdown",
   "id": "3152c27f",
   "metadata": {},
   "source": [
    "##### **Python không cho phép việc tồn tại nhiều phương thức __init__() trong một lớp** (Nạp chồng hàm tạo)"
   ]
  },
  {
   "cell_type": "code",
   "execution_count": null,
   "id": "f34a6dec",
   "metadata": {},
   "outputs": [],
   "source": [
    "class SinhVien:\n",
    "    def __init__(self, name):\n",
    "        print(\"Hàm tạo một đối số\")\n",
    "        self.name = name\n",
    "\n",
    "    def __init__(self, name, age):\n",
    "        print(\"Hàm tạo hai đối số\")\n",
    "        self.name = name\n",
    "        self.age = age\n",
    "\n",
    "giang = SinhVien('Giang')"
   ]
  },
  {
   "cell_type": "markdown",
   "id": "8c7dfdbe",
   "metadata": {},
   "source": [
    "Do chương trình dịch chỉ hiểu là lấy hàm tạo cuối cùng, tức là **phương thức __ init__() thứ hai có 2 đối số** bên cạnh đối số self. Do đó, khi chúng ta gọi hàm tạo có 1 đối số khi tạo đối tượng giang ở dưới thì số tham số chúng ta truyền vào chỉ có 1 nên thiếu 1 tham số cần thiết cho hàm tạo được chấp nhận. Vì vậy chương trình báo lỗi."
   ]
  },
  {
   "cell_type": "markdown",
   "id": "781c89e2",
   "metadata": {},
   "source": [
    "##### **Python không cho phép return lại giá trị trong hàm tạo __ init__()**"
   ]
  },
  {
   "cell_type": "code",
   "execution_count": 5,
   "id": "10ef8564",
   "metadata": {},
   "outputs": [
    {
     "ename": "TypeError",
     "evalue": "__init__() should return None, not 'bool'",
     "output_type": "error",
     "traceback": [
      "\u001b[1;31m---------------------------------------------------------------------------\u001b[0m",
      "\u001b[1;31mTypeError\u001b[0m                                 Traceback (most recent call last)",
      "Cell \u001b[1;32mIn[5], line 7\u001b[0m\n\u001b[0;32m      4\u001b[0m         \u001b[39mself\u001b[39m\u001b[39m.\u001b[39mage \u001b[39m=\u001b[39m age\n\u001b[0;32m      5\u001b[0m         \u001b[39mreturn\u001b[39;00m \u001b[39mTrue\u001b[39;00m\n\u001b[1;32m----> 7\u001b[0m d \u001b[39m=\u001b[39m Test(\u001b[39m20\u001b[39;49m)\n",
      "\u001b[1;31mTypeError\u001b[0m: __init__() should return None, not 'bool'"
     ]
    }
   ],
   "source": [
    "class Test:\n",
    "\n",
    "    def __init__(self, age):\n",
    "        self.age = age\n",
    "        return True\n",
    "\n",
    "d = Test(20)"
   ]
  }
 ],
 "metadata": {
  "kernelspec": {
   "display_name": "Python 3",
   "language": "python",
   "name": "python3"
  },
  "language_info": {
   "codemirror_mode": {
    "name": "ipython",
    "version": 3
   },
   "file_extension": ".py",
   "mimetype": "text/x-python",
   "name": "python",
   "nbconvert_exporter": "python",
   "pygments_lexer": "ipython3",
   "version": "3.11.4"
  }
 },
 "nbformat": 4,
 "nbformat_minor": 5
}
