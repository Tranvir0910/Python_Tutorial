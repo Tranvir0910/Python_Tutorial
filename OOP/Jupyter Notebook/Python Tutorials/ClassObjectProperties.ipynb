{
 "cells": [
  {
   "cell_type": "markdown",
   "id": "5551d069",
   "metadata": {},
   "source": [
    "## **Thuộc tính của lớp và đối tượng trong Python**"
   ]
  },
  {
   "cell_type": "markdown",
   "id": "eb1b2716",
   "metadata": {},
   "source": [
    "### **Thuộc tính của lớp và thuộc tính của đối tượng**"
   ]
  },
  {
   "cell_type": "code",
   "execution_count": 1,
   "id": "f804f392",
   "metadata": {},
   "outputs": [],
   "source": [
    "class Circle:\n",
    "    def __init__(self, radius):\n",
    "        self.pi = 3.14159\n",
    "        self.radius = radius\n",
    "\n",
    "    def area(self):\n",
    "        return self.pi * self.radius**2\n",
    "\n",
    "    def circumference(self):\n",
    "        return 2*self.pi * self.radius"
   ]
  },
  {
   "cell_type": "markdown",
   "id": "e48aa8fb",
   "metadata": {},
   "source": [
    "Lớp Circle có hai thuộc tính là pi và radius. Nó cũng có hai phương thức được sử dụng tính diện tích và chu vi hình tròn tương ứng là area() và circumference()."
   ]
  },
  {
   "cell_type": "markdown",
   "id": "d20c2e05",
   "metadata": {},
   "source": [
    "**pi** và **radius** đều được gọi là thuộc tính đối tượng. Chúng thuộc về một đối tượng cụ thể của lớp Circle"
   ]
  },
  {
   "cell_type": "markdown",
   "id": "57168906",
   "metadata": {},
   "source": [
    "Nếu bạn thay đổi các thuộc tính của một đối tượng, điều đó sẽ không ảnh hưởng đến các đối tượng khác"
   ]
  },
  {
   "cell_type": "markdown",
   "id": "479febb3",
   "metadata": {},
   "source": [
    "Có nghĩa là thuộc tính của đối tượng sẽ chỉ ảnh hưởng đến đối tượng và không ảnh hưởng gì đến toàn bộ các đối tượng khác tạo ra bởi lớp."
   ]
  },
  {
   "cell_type": "markdown",
   "id": "f94578cf",
   "metadata": {},
   "source": [
    "Bên cạnh các thuộc tính đối tượng, Python cũng hỗ trợ các thuộc tính của lớp. Các thuộc tính của lớp không liên kết với bất kỳ đối tượng cụ thể nào của lớp mà được chia sẻ bởi tất cả các đối tượng của lớp. Nghĩa là nếu ta thay đổi giá trị của thuộc tính này, thì tất cả các đối tượng sẽ đều nhận chung giá trị này cùng lúc."
   ]
  },
  {
   "cell_type": "code",
   "execution_count": 7,
   "id": "375bec6d",
   "metadata": {},
   "outputs": [
    {
     "name": "stdout",
     "output_type": "stream",
     "text": [
      "3.14159\n"
     ]
    }
   ],
   "source": [
    "class Circle:\n",
    "    pi = 3.14159\n",
    "    def __init__(self, radius):\n",
    "        self.radius = radius\n",
    "\n",
    "    def area(self):\n",
    "        return self.pi * self.radius**2\n",
    "\n",
    "    def circumference(self):\n",
    "        return 2 * self.pi * self.radius\n"
   ]
  },
  {
   "cell_type": "markdown",
   "id": "992ff6d1",
   "metadata": {},
   "source": [
    "Sau đó, bạn có thể truy cập vào thuộc tính lớp thông qua các đối tượng của lớp hoặc thông qua tên lớp:"
   ]
  },
  {
   "cell_type": "code",
   "execution_count": null,
   "id": "73b39c24",
   "metadata": {},
   "outputs": [],
   "source": [
    "object.class_attribute\n",
    "class.class_attribute"
   ]
  },
  {
   "cell_type": "markdown",
   "id": "122bbd34",
   "metadata": {},
   "source": [
    "Trong đó:\n",
    "\n",
    "- **object** là tên đối tượng\n",
    "- **class** là tên của lớp\n",
    "\n",
    "Trong phương thức **area()** và **circumference()**, chúng ta truy cập thuộc tính lớp **pi** thông qua biến **self**.\n",
    "\n",
    "Bên ngoài lớp **Circle**, bạn có thể truy cập **thuộc tính lớp pi thông qua một đối tượng của lớp Circle** hoặc **trực tiếp thông qua lớp Circle.**"
   ]
  },
  {
   "cell_type": "code",
   "execution_count": 6,
   "id": "fade6499",
   "metadata": {},
   "outputs": [
    {
     "name": "stdout",
     "output_type": "stream",
     "text": [
      "3.14159\n"
     ]
    },
    {
     "ename": "AttributeError",
     "evalue": "type object 'Circle' has no attribute 'pi'",
     "output_type": "error",
     "traceback": [
      "\u001b[1;31m---------------------------------------------------------------------------\u001b[0m",
      "\u001b[1;31mAttributeError\u001b[0m                            Traceback (most recent call last)",
      "Cell \u001b[1;32mIn[6], line 3\u001b[0m\n\u001b[0;32m      1\u001b[0m c \u001b[39m=\u001b[39m Circle(\u001b[39m10\u001b[39m)\n\u001b[0;32m      2\u001b[0m \u001b[39mprint\u001b[39m(c\u001b[39m.\u001b[39mpi)\n\u001b[1;32m----> 3\u001b[0m \u001b[39mprint\u001b[39m(Circle\u001b[39m.\u001b[39;49mpi)\n",
      "\u001b[1;31mAttributeError\u001b[0m: type object 'Circle' has no attribute 'pi'"
     ]
    }
   ],
   "source": [
    "c = Circle(10)\n",
    "print(c.pi)\n",
    "print(Circle.pi)"
   ]
  },
  {
   "cell_type": "markdown",
   "id": "dc52671f",
   "metadata": {},
   "source": [
    "### **Cách hoạt động của các thuộc tính lớp**"
   ]
  },
  {
   "cell_type": "markdown",
   "id": "7a655513",
   "metadata": {},
   "source": [
    "Khi bạn truy cập một thuộc tính thông qua một đối tượng của lớp, Python sẽ tìm kiếm thuộc tính đó trong danh sách thuộc tính của đối tượng.\n",
    "\n",
    "Nếu danh sách thuộc tính trong đối tượng không có thuộc tính đó, Python sẽ tiếp tục tìm kiếm thuộc tính trong danh sách thuộc tính của lớp."
   ]
  },
  {
   "cell_type": "markdown",
   "id": "04c33321",
   "metadata": {},
   "source": [
    "Tuy nhiên, nếu bạn truy cập một thuộc tính qua tên lớp, Python sẽ trực tiếp tìm kiếm thuộc tính đó trong danh sách thuộc tính của lớp."
   ]
  },
  {
   "cell_type": "code",
   "execution_count": 8,
   "id": "2050dc79",
   "metadata": {},
   "outputs": [
    {
     "name": "stdout",
     "output_type": "stream",
     "text": [
      "20\n",
      "10\n"
     ]
    }
   ],
   "source": [
    "class Test:\n",
    "    x = 10\n",
    "    def __init__(self):\n",
    "        self.x = 20\n",
    "\n",
    "test = Test()\n",
    "print(test.x)\n",
    "print(Test.x)"
   ]
  },
  {
   "cell_type": "markdown",
   "id": "fef12296",
   "metadata": {},
   "source": [
    "### **Khi nào sử dụng thuộc tính của lớp**"
   ]
  },
  {
   "cell_type": "markdown",
   "id": "ee1080e4",
   "metadata": {},
   "source": [
    "#### **Lưu trữ hằng số của lớp**"
   ]
  },
  {
   "cell_type": "markdown",
   "id": "0ea285e2",
   "metadata": {},
   "source": [
    "Vì một hằng số không thay đổi giữa các đối tượng của một lớp, nên sẽ rất tiện lợi nếu lưu trữ nó dưới dạng một thuộc tính của lớp.\n",
    "\n",
    "Ví dụ, lớp Circle có hằng số pi giống nhau cho tất cả các đối tượng của lớp. Do đó, nó nên là một thuộc tính của lớp. Điều này sẽ tránh việc chúng ta phải khởi tạo lại giá trị cho nó sau mỗi lần định nghĩa một đối tượng mới."
   ]
  },
  {
   "cell_type": "markdown",
   "id": "cb314456",
   "metadata": {},
   "source": [
    "#### **Theo dõi dữ liệu trên tất cả các đối tượng**"
   ]
  },
  {
   "cell_type": "markdown",
   "id": "b0512a60",
   "metadata": {},
   "source": [
    "Đoạn mã sau sẽ thực hiện thêm thuộc tính của lớp **circle_list** vào lớp **Circle**. Khi bạn tạo một đối tượng mới của lớp **Circle**, hàm tạo sẽ thêm đối tượng vào danh sách:"
   ]
  },
  {
   "cell_type": "code",
   "execution_count": 9,
   "id": "7b77b833",
   "metadata": {},
   "outputs": [
    {
     "name": "stdout",
     "output_type": "stream",
     "text": [
      "2\n"
     ]
    }
   ],
   "source": [
    "class Circle:\n",
    "    circle_list = []\n",
    "    pi = 3.14159\n",
    "    def __init__(self, radius):\n",
    "        self.radius = radius\n",
    "        self.circle_list.append(self)\n",
    "\n",
    "    def area(self):\n",
    "        return self.pi * self.radius**2\n",
    "\n",
    "    def circumference(self):\n",
    "        return 2 * self.pi * self.radius\n",
    "\n",
    "c1 = Circle(10)\n",
    "c2 = Circle(20)\n",
    "print(len(Circle.circle_list))"
   ]
  },
  {
   "cell_type": "markdown",
   "id": "cbd2fe14",
   "metadata": {},
   "source": [
    "Danh sách circle_list này sẽ lưu trữ tất cả các đối tượng được tạo từ lớp trong chương trình.\n",
    "\n",
    "Chúng ta khi tạo ra bất cứ một đối tượng nào, chương trình cũng sẽ thêm nó vào danh sách này. Việc theo dõi này khá hữu ích trong một số trường hợp khi chúng ta muốn xác định đã tạo ra bao nhiêu đối tượng, cũng như giám sát các đối tượng được tạo trong chương trình."
   ]
  },
  {
   "cell_type": "markdown",
   "id": "879229ce",
   "metadata": {},
   "source": [
    "#### **Định nghĩa giá trị mặc định**"
   ]
  },
  {
   "cell_type": "markdown",
   "id": "1b509f90",
   "metadata": {},
   "source": [
    "Đôi khi, bạn muốn đặt một giá trị mặc định cho tất cả các đối tượng của một lớp. Trong trường hợp này, bạn có thể sử dụng thuộc tính của lớp."
   ]
  },
  {
   "cell_type": "markdown",
   "id": "588a7cb6",
   "metadata": {},
   "source": [
    "Ví dụ sau định nghĩa một lớp **Product**. Tất cả các đối tượng của lớp **Product** sẽ có giá trị **discount** mặc định được chỉ định bởi thuộc tính lớp **default_discount**:"
   ]
  }
 ],
 "metadata": {
  "kernelspec": {
   "display_name": "Python 3 (ipykernel)",
   "language": "python",
   "name": "python3"
  },
  "language_info": {
   "codemirror_mode": {
    "name": "ipython",
    "version": 3
   },
   "file_extension": ".py",
   "mimetype": "text/x-python",
   "name": "python",
   "nbconvert_exporter": "python",
   "pygments_lexer": "ipython3",
   "version": "3.11.3"
  }
 },
 "nbformat": 4,
 "nbformat_minor": 5
}
