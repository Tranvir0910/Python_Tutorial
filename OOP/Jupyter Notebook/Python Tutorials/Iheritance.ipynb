{
 "cells": [
  {
   "cell_type": "markdown",
   "metadata": {},
   "source": [
    "## **Kế thừa trong Python**"
   ]
  },
  {
   "cell_type": "markdown",
   "metadata": {},
   "source": [
    "### **Kế thừa là gì?**"
   ]
  },
  {
   "cell_type": "markdown",
   "metadata": {},
   "source": [
    "Tính kế thừa trong Python cho phép chúng ta xác định một **lớp B có thể nhận lại (thừa kế) tất cả các thuộc tính từ một lớp A** nào đó đã được định nghĩa và cho phép mở rộng thêm nhiều thuộc tính khác trong lớp B đó."
   ]
  },
  {
   "cell_type": "markdown",
   "metadata": {},
   "source": [
    "Lớp mới được gọi là **lớp dẫn xuất (hoặc lớp con)** và lớp mà nó kế thừa được gọi là **lớp cơ sở (hoặc lớp cha)**."
   ]
  },
  {
   "cell_type": "code",
   "execution_count": null,
   "metadata": {},
   "outputs": [],
   "source": [
    "class lớp_cha:\n",
    "  Đoạn mã\n",
    "class lớp_con(lớp_cha):\n",
    "  Đoạn mã 2"
   ]
  },
  {
   "cell_type": "markdown",
   "metadata": {},
   "source": [
    "Như chúng ta thấy ở cú pháp trên.\n",
    "\n",
    "- Việc định nghĩa lớp cha sẽ không có ảnh hưởng gì khi chúng ta định nghĩa lớp con.\n",
    "\n",
    "- Lớp cha phải được định nghĩa trước khi thực hiện định nghĩa lớp con, nếu không chương trình sẽ không hiểu nó kế thừa từ lớp nào.\n",
    "\n",
    "- Khi định nghĩa lớp con chúng ta cần thêm dấu ngoặc tròn và chỉ rõ tham số phía trong là lớp con đó kế thừa từ lớp cha nào. Điều này giống hệt cú pháp định nghĩa hàm, chỉ khác từ khóa class, và ở đây chúng ta sẽ thực hiện định nghĩa một lớp thay vì hàm."
   ]
  },
  {
   "cell_type": "markdown",
   "metadata": {},
   "source": [
    "Để chứng minh việc sử dụng kế thừa, chúng ta sẽ cùng lấy một ví dụ đơn giản."
   ]
  },
  {
   "cell_type": "code",
   "execution_count": 1,
   "metadata": {},
   "outputs": [],
   "source": [
    "class SinhVien:\n",
    "    def __init__(self, ID):\n",
    "        self.ID = ID\n",
    "    def in_thong_tin(self):\n",
    "        print(\"ID của sinh viên là: \",self.ID)"
   ]
  },
  {
   "cell_type": "markdown",
   "metadata": {},
   "source": [
    "Lớp SinhVien này có các thuộc tính dữ liệu để lưu trữ ID của sinh viên. Phương thức in_thong_tin() được sử dụng để in ra mã số ID của sinh viên."
   ]
  },
  {
   "cell_type": "code",
   "execution_count": null,
   "metadata": {},
   "outputs": [],
   "source": [
    "class SinhVien:\n",
    "    def __init__(self, ID):\n",
    "        self.ID = ID\n",
    "    def in_thong_tin(self):\n",
    "        print(\"ID của sinh viên là: \",self.ID)\n",
    "\n",
    "class SinhVienY(SinhVien):\n",
    "    def __init__(self,ID,name):\n",
    "        SinhVien.__init__(self,ID)\n",
    "        self.name=name\n",
    "    def in_thong_tin_2(self):\n",
    "        print('Đây là sinh viên trường Y')"
   ]
  },
  {
   "cell_type": "markdown",
   "metadata": {},
   "source": [
    "Ở đây, chúng ta thực hiện việc kế thừa phương thức tạo của SinhVien sang SinhVienY bằng cách gọi đến lớp cha của nó kèm theo dấu chấm và tên hàm tạo: **SinhVien.__ init__()**.\n",
    "\n",
    "Khi đó **SinhVienY sẽ kế thừa hàm tạo của SinhVien** cho phép khởi tạo tham số ID. Tuy nhiên SinhVienY còn muốn khởi tạo thêm cả thuộc tính tên nữa, do đó nó thực hiện gán thêm name vào hàm tạo."
   ]
  },
  {
   "cell_type": "code",
   "execution_count": 2,
   "metadata": {},
   "outputs": [
    {
     "name": "stdout",
     "output_type": "stream",
     "text": [
      "ID của sinh viên là:  200\n",
      "Đây là sinh viên trường Y\n"
     ]
    }
   ],
   "source": [
    "class SinhVien:\n",
    "    def __init__(self, ID):\n",
    "        self.ID = ID\n",
    "    def in_thong_tin(self):\n",
    "        print(\"ID của sinh viên là: \",self.ID)\n",
    "\n",
    "class SinhVienY(SinhVien):\n",
    "    def __init__(self,ID,name):\n",
    "        SinhVien.__init__(self,ID)\n",
    "        self.name=name\n",
    "    def in_thong_tin_2(self):\n",
    "        print('Đây là sinh viên trường Y')\n",
    "\n",
    "svy = SinhVienY(200,\"Tùng\")\n",
    "svy.in_thong_tin()\n",
    "svy.in_thong_tin_2()"
   ]
  },
  {
   "cell_type": "markdown",
   "metadata": {},
   "source": [
    "Chúng ta có thể thấy rằng mặc dù chúng ta không định nghĩa các phương thức như **in_thong_tin()** cho lớp SinhVienY, tuy nhiên, chúng ta vẫn có thể sử dụng nó do nó đã được kế thừa từ lớp cha là là lớp SinhVien."
   ]
  },
  {
   "cell_type": "markdown",
   "metadata": {},
   "source": [
    "### **Kế thừa trong bài toán quản lý khóa học**"
   ]
  },
  {
   "cell_type": "markdown",
   "metadata": {},
   "source": [
    "Bây giờ chúng ta sẽ bắt đầu phân tích lại khái niệm kế thừa nhé. Chúng ta thấy rằng lớp con sẽ có toàn bộ các đặc tính của lớp cha. Vậy thì Student không thể kế thừa Lecturer được vì Student không có thuộc tính bank_account tức là nó không lấy thuộc tính này về mình làm gì cả. Điều ngược lại cũng không được, do Lecturer cũng không có thuộc tính id và điểm và Lecturer cũng không muốn lấy các thuộc tính này về mình !!!. Tất nhiên, chúng ta có thể cho các lớp lấy \"bừa\" về nhưng điều đó là không cần thiết và gây khó hiểu cũng như dễ nhầm lẫn khi sử dụng sau này!"
   ]
  },
  {
   "cell_type": "markdown",
   "metadata": {},
   "source": [
    "Chúng ta sẽ định nghĩa một lớp mới là lớp Person là lớp cơ sở chung của 2 lớp Student và Lecturer với các thuộc tính chung là giao của các thuộc tính của hai lớp này."
   ]
  },
  {
   "cell_type": "markdown",
   "metadata": {},
   "source": [
    "Và khi đó, 2 lớp Student, Lecturer sẽ kế thừa từ lớp Person này như sau:"
   ]
  },
  {
   "cell_type": "code",
   "execution_count": 3,
   "metadata": {},
   "outputs": [
    {
     "name": "stdout",
     "output_type": "stream",
     "text": [
      "Nam Nguyễn is 21 years old.\n"
     ]
    }
   ],
   "source": [
    "class Person:\n",
    "    def __init__(self, first_name, last_name, age, email):\n",
    "        self.first_name = first_name\n",
    "        self.last_name = last_name\n",
    "        self.age = age\n",
    "        self.email = email\n",
    "\n",
    "    def print_info(self):\n",
    "        print(self.first_name + \" \" + self.last_name + \" is \" + str(self.age) + \" years old.\")\n",
    "\n",
    "class Lecturer(Person):\n",
    "    def __init__(self, f_name, l_name, age, email, bank_account):\n",
    "        super().__init__(f_name, l_name, age, email)\n",
    "        self.bank_account = bank_account\n",
    "       \n",
    "class Student(Person):\n",
    "    def __init__(self, f_name, l_name, age, email, student_id, grade=-1):\n",
    "        super().__init__(f_name, l_name, age, email)\n",
    "        self.student_id = student_id\n",
    "        self.grade = grade\n",
    "\n",
    "std = Student(\"Nam\", \"Nguyễn\", \"21\", \"namnguyen@tek4.vn\", \"1234\")\n",
    "std.print_info()"
   ]
  },
  {
   "cell_type": "markdown",
   "metadata": {},
   "source": [
    "Như vậy, chúng ta đã thực hiện tại cấu trúc lại đoạn mã ở bài trước để nó ngắn gọn hơn và chức năng của chương trình vẫn được giữ nguyên."
   ]
  },
  {
   "cell_type": "markdown",
   "metadata": {},
   "source": [
    "Chú ý rằng ở đây chúng ta đã sử dụng phương thức ***super()*** để thay thế cho việc gọi đến tên của lớp ***Person***."
   ]
  },
  {
   "cell_type": "markdown",
   "metadata": {},
   "source": [
    "Điều này khác với ví dụ trên. Chúng ta hoàn toàn có thể làm như ví dụ trên, tuy nhiên khi chúng ta không chắc lớp cha của lớp con là gì, chúng ta có thể tìm nó thông qua phương thức ***super()*** này."
   ]
  },
  {
   "cell_type": "markdown",
   "metadata": {},
   "source": [
    "Trong chương trình trên, đôi khi ta muốn in những thông tin khác nhau cho các đối tượng ***Lecturer*** và ***Student***. Để làm như vậy, chúng ta sẽ cần định nghĩa thêm các hàm in ra màn hình riêng biệt cho các lớp này. Ví dụ:"
   ]
  },
  {
   "cell_type": "code",
   "execution_count": 5,
   "metadata": {},
   "outputs": [
    {
     "name": "stdout",
     "output_type": "stream",
     "text": [
      "Nam Nguyễn is 21 years old.\n",
      "Nam Nguyễn is 21 years old  Email: namnguyen@tek4.vn ID: 1234 Grade:-1\n"
     ]
    }
   ],
   "source": [
    "class Lecturer(Person):\n",
    "    def __init__(self, f_name, l_name, age, email, bank_account):\n",
    "        super().__init__( f_name, l_name, age, email)\n",
    "        self.bank_account = bank_account\n",
    "    def print_Lecturer(self):\n",
    "        print(self.first_name + \" \" +self.last_name + \" is \" + str(self.age) + \" years old \" + self.email + self.bank_account)\n",
    "       \n",
    "class Student(Person):\n",
    "    def __init__(self, f_name, l_name, age, email, student_id, grade=-1):\n",
    "        super().__init__( f_name, l_name, age, email)\n",
    "        self.student_id = student_id\n",
    "        self.grade = grade\n",
    "    def print_Student(self):\n",
    "        print(self.first_name + \" \" + self.last_name + \" is \" + str(self.age) + \" years old \" + \" Email: \" + self.email + \" ID: \" + self.student_id + \" Grade:\" + str(self.grade))\n",
    "\n",
    "std = Student(\"Nam\", \"Nguyễn\", \"21\", \"namnguyen@tek4.vn\", \"1234\")\n",
    "std.print_info()\n",
    "std.print_Student()"
   ]
  },
  {
   "cell_type": "markdown",
   "metadata": {},
   "source": [
    "### **Bài tập về kế thừa trong Python**\n"
   ]
  },
  {
   "cell_type": "markdown",
   "metadata": {},
   "source": [
    "Xây dựng **lớp Rectangle**, cho phép chúng ta sử dụng để định nghĩa các đối tượng có dạng hình chữ nhật với các thuộc tính là **chiều dài length** và **chiều rộng width.**\n",
    "\n",
    "\n",
    "Tạo các phương thức theo thứ tự sau:\n",
    "\n",
    "perimeter() để tính toán chu vi của hình chữ nhật.\n",
    "\n",
    "area() để tính toán diện tích của hình chữ nhật\n",
    "\n",
    "display() để hiển thị chiều dài, chiều rộng, chu vi và diện tích của hình chữ nhật, với cấu trúc hiển thị như sau:\n",
    "\n",
    "\n",
    "The length of rectangle is: {length}\n",
    "\n",
    "The width of rectangle is: {width}\n",
    "\n",
    "The perimeter of rectangle is: {perimeter}\n",
    "\n",
    "The area of rectangle is: {area}\n",
    "\n",
    "với:\n",
    "\n",
    "{length}: là chiều dài của hình chữ nhật.\n",
    "\n",
    "{width}: là chiều rộng của hình chữ nhật.\n",
    "\n",
    "{perimeter}: là chu vi của hình chữ nhật.\n",
    "\n",
    "{areas}: là diện tích của hình chữ nhật.\n",
    "\n",
    "Tạo lớp Parallelepipede là lớp con kế thừa từ lớp Rectangle và có bổ sung thêm thuộc tính chiều cao height và một phương thức volume() để tính toán thể tích của hình hộp Parallelepipede.\n",
    "\n",
    "\n",
    "Nhận length và width nhập vào từ bàn phím, và tạo đối tượng myRectangle với các tham số này. Sau đó thực hiện hiển thị thông tin của myRectangle.\n",
    "\n",
    "\n",
    "Tạo đối tượng myParallelepipede với chiều dài và chiều rộng lấy từ đối tượng myRectangle và chiều cao được nhập vào từ bàn phím. Hãy in ra thể tích của khối hình hộp này với định dạng:\n",
    "\n",
    "The volume of myParallelepipede is: {volume}\n",
    "\n",
    "với {volume} là thể tích của đối tượng khối hình hộp vừa được tạo.\n",
    "\n"
   ]
  },
  {
   "cell_type": "code",
   "execution_count": 4,
   "metadata": {},
   "outputs": [
    {
     "name": "stdout",
     "output_type": "stream",
     "text": [
      "The length of rectangle is: 2\n",
      "The width of rectangle is: 3\n",
      "The perimeter of rectangle is: 10\n",
      "The area of rectangle is: 6\n",
      "The volume of myParallelepipede is: 24\n"
     ]
    }
   ],
   "source": [
    "class Rectangle:\n",
    "  def __init__(self, length, width):\n",
    "    self.length = length\n",
    "    self.width = width\n",
    "    \n",
    "  def perimeter(self):\n",
    "    return 2 * (self.length + self.width)\n",
    "    \n",
    "  def area(self):\n",
    "    return self.length * self.width\n",
    "  \n",
    "  def display(self):\n",
    "    print(\"The length of rectangle is:\", self.length)\n",
    "    print(\"The width of rectangle is:\", self.width)\n",
    "    print(\"The perimeter of rectangle is:\", self.perimeter())\n",
    "    print(\"The area of rectangle is:\", self.area())\n",
    "    \n",
    "class Parallelepipede(Rectangle):\n",
    "  def __init__(self, length, width, height):\n",
    "    Rectangle.__init__(self, length, width)\n",
    "    self.height = height\n",
    "  \n",
    "  def volume(self):\n",
    "    return self.length * self.width * self.height\n",
    "\n",
    "\n",
    "length = int(input())\n",
    "width = int(input())\n",
    "\n",
    "myRectangle = Rectangle(length, width)\n",
    "myRectangle.display()\n",
    "\n",
    "myParallelepipede = Parallelepipede(length, width, int(input()))\n",
    "print(\"The volume of myParallelepipede is:\", myParallelepipede.volume())"
   ]
  }
 ],
 "metadata": {
  "kernelspec": {
   "display_name": "Python 3",
   "language": "python",
   "name": "python3"
  },
  "language_info": {
   "codemirror_mode": {
    "name": "ipython",
    "version": 3
   },
   "file_extension": ".py",
   "mimetype": "text/x-python",
   "name": "python",
   "nbconvert_exporter": "python",
   "pygments_lexer": "ipython3",
   "version": "3.11.4"
  },
  "orig_nbformat": 4
 },
 "nbformat": 4,
 "nbformat_minor": 2
}
